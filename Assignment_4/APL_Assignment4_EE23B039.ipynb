{
 "cells": [
  {
   "cell_type": "code",
   "execution_count": 55,
   "metadata": {
    "id": "jkyGVDtGKVT5"
   },
   "outputs": [],
   "source": [
    "import matplotlib.pyplot as plt\n",
    "from matplotlib import cm\n",
    "import math\n",
    "import matplotlib.animation as animation"
   ]
  },
  {
   "cell_type": "code",
   "execution_count": 79,
   "metadata": {
    "colab": {
     "base_uri": "https://localhost:8080/"
    },
    "id": "wuUaVuXzi3Ow",
    "outputId": "162a0c68-4366-426f-d973-74fb304fd5fe"
   },
   "outputs": [
    {
     "name": "stdout",
     "output_type": "stream",
     "text": [
      "Which keyboard (enter 1, 2, or 3):\n",
      "1. QWERTY\n",
      "2. Dvorak\n",
      "3. Colemak\n",
      "2\n"
     ]
    }
   ],
   "source": [
    "keyboard = int(input('Which keyboard (enter 1, 2, or 3):\\n1. QWERTY\\n2. Dvorak\\n3. Colemak\\n'))\n",
    "\n",
    "row1_keys = ''\n",
    "row2_keys = ''\n",
    "row3_keys = ''\n",
    "row4_keys = ''\n",
    "\n",
    "if keyboard == 1:\n",
    "    row1_keys = '`1234567890-='\n",
    "    row2_keys = 'qwertyuiop[]\\\\'\n",
    "    row3_keys = 'asdfghjkl;\\''\n",
    "    row4_keys = 'zxcvbnm,./'\n",
    "\n",
    "elif keyboard == 2:\n",
    "    row1_keys = '`1234567890-='\n",
    "    row2_keys = '\\'\".,pyfgcrl'\n",
    "    row3_keys = 'aoeuidhtns'\n",
    "    row4_keys = 'qjkxbmwvz'\n",
    "\n",
    "elif keyboard == 3:\n",
    "    row1_keys = '`1234567890-='\n",
    "    row2_keys = 'qwfpgjluy;'\n",
    "    row3_keys = 'arstdhneio'\n",
    "    row4_keys = 'zxcvbm,./'\n",
    "\n",
    "else:\n",
    "    print(\"Invalid choice. Please enter 1, 2, or 3.\")\n",
    "\n",
    "\n",
    "special_keys = ['tab', 'capslock', 'lshift', 'lctrl', 'fn', 'win', 'lalt', 'spacebar', 'ralt', 'rctrl', 'rshift', 'enter', 'backspace']"
   ]
  },
  {
   "cell_type": "code",
   "execution_count": 80,
   "metadata": {
    "id": "HYNiXz9d6LNG"
   },
   "outputs": [],
   "source": [
    "keyboard_layout = {\n",
    "    'row1' : {\n",
    "        'keys' : row1_keys,\n",
    "        'positions' : [\n",
    "            (0.5, 4.5), (1.5, 4.5), (2.5, 4.5), (3.5, 4.5), (4.5, 4.5), (5.5, 4.5), (6.5, 4.5), (7.5, 4.5), (8.5, 4.5), (9.5, 4.5), (10.5, 4.5), (11.5, 4.5) ,(12.5, 4.5)\n",
    "        ],\n",
    "        'width': [1, 1, 1, 1, 1, 1, 1, 1, 1, 1, 1, 1, 1]\n",
    "    },\n",
    "    'row2' : {\n",
    "        'keys' : row2_keys,\n",
    "        'positions' : [\n",
    "            (2, 3.5), (3, 3.5), (4, 3.5), (5, 3.5), (6, 3.5), (7, 3.5), (8, 3.5), (9, 3.5), (10, 3.5), (11, 3.5), (12, 3.5), (13, 3.5) ,(14, 3.5)\n",
    "        ],\n",
    "        'width': [1, 1, 1, 1, 1, 1, 1, 1, 1, 1, 1, 1, 1]\n",
    "    },\n",
    "    'row3' : {\n",
    "        'keys' : row3_keys,\n",
    "        'positions' : [\n",
    "            (2.5, 2.5), (3.5, 2.5), (4.5, 2.5), (5.5, 2.5), (6.5, 2.5), (7.5, 2.5), (8.5, 2.5), (9.5, 2.5), (10.5, 2.5), (11.5, 2.5), (12.5, 2.5)\n",
    "        ],\n",
    "        'width': [1, 1, 1, 1, 1, 1, 1, 1, 1, 1, 1]\n",
    "    },\n",
    "    'row4' : {\n",
    "        'keys' : row4_keys,\n",
    "        'positions' : [\n",
    "            (3, 1.5), (4, 1.5), (5, 1.5), (6, 1.5), (7, 1.5), (8, 1.5), (9, 1.5), (10, 1.5), (11, 1.5), (12, 1.5)\n",
    "        ],\n",
    "        'width': [1, 1, 1, 1, 1, 1, 1, 1, 1, 1]\n",
    "    },\n",
    "\n",
    "    'common_keys' :{\n",
    "    'keys' : special_keys,\n",
    "    'positions' : [\n",
    "        (0.75, 3.5), (1, 2.5), (1.25, 1.5), (0.625, 0.5), (1.75, 0.5), (2.875, 0.5), (4, 0.5), (7, 0.5), (10, 0.5), (11, 0.5), (13.5, 1.5), (13.75, 2.5), (13.75, 4.5)\n",
    "    ],\n",
    "    'width' : [1.5, 2, 2.5, 1.25, 1.125, 1.125, 1.125, 5, 1, 1, 2, 1.5, 1.5]\n",
    "\n",
    "    }\n",
    "\n",
    "}"
   ]
  },
  {
   "cell_type": "code",
   "execution_count": 81,
   "metadata": {
    "id": "s1ox9xqIrK8Q"
   },
   "outputs": [],
   "source": [
    "def update_shift_counts(layout, char):\n",
    "    for row in layout.values():\n",
    "        if char in row['keys']:\n",
    "            idx = row['keys'].index(char)\n",
    "            pos = row['positions'][idx]\n",
    "            row2_width_half = sum(layout['row2']['width']) / 2\n",
    "            if pos[0] < row2_width_half:\n",
    "                dict_sample_text['rshift'] = dict_sample_text.get('rshift', 0) + 1\n",
    "            else:\n",
    "                dict_sample_text['lshift'] = dict_sample_text.get('lshift', 0) + 1\n",
    "            break"
   ]
  },
  {
   "cell_type": "code",
   "execution_count": 82,
   "metadata": {
    "colab": {
     "base_uri": "https://localhost:8080/"
    },
    "id": "san2Sy3J47E-",
    "outputId": "22d74734-0242-4f1c-90d7-f6e9fe09b8d3"
   },
   "outputs": [
    {
     "name": "stdout",
     "output_type": "stream",
     "text": [
      "Enter a string: some Example TEXT %^#$%#^\n",
      "{'s': 1, 'o': 1, 'm': 2, 'e': 4, 'spacebar': 3, 'rshift': 8, 'shift': 12, 'x': 2, 'a': 1, 'p': 1, 'l': 1, 'lshift': 4, 't': 2, '5': 2, '6': 2, '3': 2, '4': 1}\n"
     ]
    }
   ],
   "source": [
    "shift_characters = {\n",
    "    '1': '!', '2': '@', '3': '#', '4': '$', '5': '%', '6': '^', '7': '&', '8': '*', '9': '(', '0': ')',\n",
    "    '`': '~', '-': '_', '=': '+', '[': '{', ']': '}', '\\\\': '|', ';': ':', '\\'': '\"', ',': '<', '.': '>', '/': '?'\n",
    "}\n",
    "\n",
    "sample_text = input('Enter a string: ')\n",
    "dict_sample_text = {}\n",
    "\n",
    "for i in sample_text:\n",
    "    original_char = i\n",
    "\n",
    "    if i.isupper() or i in shift_characters.values():\n",
    "        if i in shift_characters.values():\n",
    "            for key, shifted_value in shift_characters.items():\n",
    "                if shifted_value == i:\n",
    "                    update_shift_counts(keyboard_layout, key)\n",
    "                    dict_sample_text['shift'] = dict_sample_text.get('shift', 0) + 1\n",
    "                    dict_sample_text[key] = dict_sample_text.get(key, 0) + 1\n",
    "                    break\n",
    "        else:\n",
    "            update_shift_counts(keyboard_layout, i.lower())\n",
    "            dict_sample_text['shift'] = dict_sample_text.get('shift', 0) + 1\n",
    "            dict_sample_text[i.lower()] = dict_sample_text.get(i.lower(), 0) + 1\n",
    "        continue\n",
    "\n",
    "\n",
    "    if original_char == ' ':\n",
    "        dict_sample_text['spacebar'] = dict_sample_text.get('spacebar', 0) + 1\n",
    "\n",
    "\n",
    "    elif original_char in shift_characters:\n",
    "        dict_sample_text[original_char] = dict_sample_text.get(original_char, 0) + 1\n",
    "\n",
    "    else:\n",
    "        dict_sample_text[i] = dict_sample_text.get(i, 0) + 1\n",
    "\n",
    "print(dict_sample_text)"
   ]
  },
  {
   "cell_type": "code",
   "execution_count": 83,
   "metadata": {
    "id": "DRY_yJVeIrgw"
   },
   "outputs": [],
   "source": [
    "heatmap_data = {}\n",
    "max_frequency = max(dict_sample_text.values()) if dict_sample_text else 1\n",
    "for row in keyboard_layout.values():\n",
    "    if 'keys' in row:\n",
    "        for key in row['keys']:\n",
    "            heatmap_data[key] = dict_sample_text.get(key, 0) / max_frequency\n",
    "    else:\n",
    "        for key in row.keys():\n",
    "            heatmap_data[key] = dict_sample_text.get(key, 0) / max_frequency"
   ]
  },
  {
   "cell_type": "code",
   "execution_count": 84,
   "metadata": {
    "colab": {
     "base_uri": "https://localhost:8080/"
    },
    "id": "H-t8GMtpmB2j",
    "outputId": "37b6a03d-b74b-4996-acb1-ab58f313ac58"
   },
   "outputs": [
    {
     "name": "stdout",
     "output_type": "stream",
     "text": [
      "{'`': 0.0, '1': 0.0, '2': 0.0, '3': 0.16666666666666666, '4': 0.08333333333333333, '5': 0.16666666666666666, '6': 0.16666666666666666, '7': 0.0, '8': 0.0, '9': 0.0, '0': 0.0, '-': 0.0, '=': 0.0, \"'\": 0.0, '\"': 0.0, '.': 0.0, ',': 0.0, 'p': 0.08333333333333333, 'y': 0.0, 'f': 0.0, 'g': 0.0, 'c': 0.0, 'r': 0.0, 'l': 0.08333333333333333, 'a': 0.08333333333333333, 'o': 0.08333333333333333, 'e': 0.3333333333333333, 'u': 0.0, 'i': 0.0, 'd': 0.0, 'h': 0.0, 't': 0.16666666666666666, 'n': 0.0, 's': 0.08333333333333333, 'q': 0.0, 'j': 0.0, 'k': 0.0, 'x': 0.16666666666666666, 'b': 0.0, 'm': 0.16666666666666666, 'w': 0.0, 'v': 0.0, 'z': 0.0, 'tab': 0.0, 'capslock': 0.0, 'lshift': 0.3333333333333333, 'lctrl': 0.0, 'fn': 0.0, 'win': 0.0, 'lalt': 0.0, 'spacebar': 0.25, 'ralt': 0.0, 'rctrl': 0.0, 'rshift': 0.6666666666666666, 'enter': 0.0, 'backspace': 0.0}\n"
     ]
    }
   ],
   "source": [
    "print(heatmap_data)"
   ]
  },
  {
   "cell_type": "code",
   "execution_count": 85,
   "metadata": {
    "id": "gaPwdI6NHzvu"
   },
   "outputs": [],
   "source": [
    "positionss = []\n",
    "widths = []\n",
    "heights = []\n",
    "annotations = []\n",
    "heatmap_values = []\n",
    "\n",
    "for row in keyboard_layout.values():\n",
    "    if 'keys' in row:\n",
    "        for key, pos, width in zip(row['keys'], row['positions'], row['width']):\n",
    "            x, y = pos\n",
    "            positionss.append((x, y))\n",
    "            widths.append(width)\n",
    "            heights.append(1)\n",
    "            annotations.append(key)\n",
    "            heatmap_values.append(heatmap_data.get(key, 0))"
   ]
  },
  {
   "cell_type": "code",
   "execution_count": 86,
   "metadata": {
    "colab": {
     "base_uri": "https://localhost:8080/",
     "height": 524
    },
    "id": "2SHlwC4VKTkq",
    "outputId": "882829c0-0f2d-4211-aa21-9622ee9d7db6"
   },
   "outputs": [
    {
     "name": "stderr",
     "output_type": "stream",
     "text": [
      "<ipython-input-86-94eb0548b446>:3: MatplotlibDeprecationWarning: The get_cmap function was deprecated in Matplotlib 3.7 and will be removed two minor releases later. Use ``matplotlib.colormaps[name]`` or ``matplotlib.colormaps.get_cmap(obj)`` instead.\n",
      "  cmap = cm.get_cmap('coolwarm')\n",
      "<ipython-input-86-94eb0548b446>:8: UserWarning: Setting the 'color' property will override the edgecolor or facecolor properties.\n",
      "  rect = plt.Rectangle((x - w / 2, y - h / 2), w, h, fill=True, color=color, edgecolor='black', lw=1)\n"
     ]
    },
    {
     "data": {
      "image/png": "[encoded data removed]",
      "text/plain": [
       "<Figure size 1600x500 with 2 Axes>"
      ]
     },
     "metadata": {},
     "output_type": "display_data"
    }
   ],
   "source": [
    "fig, ax = plt.subplots(figsize=(16, 5))\n",
    "\n",
    "cmap = cm.get_cmap('coolwarm')\n",
    "\n",
    "\n",
    "for (x, y), w, h, label, value in zip(positionss, widths, heights, annotations, heatmap_values):\n",
    "    color = cmap(value)\n",
    "    rect = plt.Rectangle((x - w / 2, y - h / 2), w, h, fill=True, color=color, edgecolor='black', lw=1)\n",
    "    ax.add_patch(rect)\n",
    "    plt.text(x, y, label, ha='center', va='center', fontsize=10)\n",
    "\n",
    "\n",
    "sm = plt.cm.ScalarMappable(cmap=cmap, norm=plt.Normalize(vmin=0, vmax=1))\n",
    "sm.set_array([])\n",
    "cbar = plt.colorbar(sm, ax=ax)\n",
    "cbar.set_label('Key Press Frequency 0 - min,  1 - max')\n",
    "\n",
    "ax.set_xlim(-1, 16)\n",
    "ax.set_ylim(-1, 5)\n",
    "ax.set_aspect('equal')\n",
    "ax.grid(False)\n",
    "plt.xticks([])\n",
    "plt.yticks([])\n",
    "\n",
    "plt.show()"
   ]
  },
  {
   "cell_type": "code",
   "execution_count": 87,
   "metadata": {
    "colab": {
     "base_uri": "https://localhost:8080/"
    },
    "id": "ql2Id-8n4vyz",
    "outputId": "6c69ec3b-8798-4240-e7af-837a12ea08fe"
   },
   "outputs": [
    {
     "name": "stdout",
     "output_type": "stream",
     "text": [
      "Total finger travel distance: 55.166928249863595\n"
     ]
    }
   ],
   "source": [
    "home_row_keys_indices = [0, 1, 2, 3, 6, 7, 8, 9]\n",
    "home_row_keys = [keyboard_layout['row3']['keys'][i] for i in home_row_keys_indices] + ['spacebar']\n",
    "\n",
    "def calculate_distance(p1, p2):\n",
    "    return math.sqrt((p1[0] - p2[0])**2 + (p1[1] - p2[1])**2)\n",
    "\n",
    "def find_nearest_home_key(char_position):\n",
    "    min_distance = float('inf')\n",
    "    nearest_home_key = None\n",
    "\n",
    "    for key, position in zip(keyboard_layout['row3']['keys'], keyboard_layout['row3']['positions']):\n",
    "        if key in home_row_keys:\n",
    "            if abs(position[0] - char_position[0]) <= 1.5:\n",
    "                distance = calculate_distance(position, char_position)\n",
    "                if distance < min_distance:\n",
    "                    min_distance = distance\n",
    "                    nearest_home_key = key\n",
    "    return nearest_home_key, min_distance\n",
    "\n",
    "\n",
    "total_distance = 0.0\n",
    "\n",
    "input_dictionary = dict_sample_text\n",
    "\n",
    "for char, count in input_dictionary.items():\n",
    "    if char.lower() in home_row_keys:\n",
    "        continue\n",
    "    char_position = None\n",
    "    for row in keyboard_layout.values():\n",
    "        if char.lower() in row['keys']:\n",
    "            char_position = row['positions'][row['keys'].index(char.lower())]\n",
    "            break\n",
    "\n",
    "    if char_position:\n",
    "        nearest_home_key, distance = find_nearest_home_key(char_position)\n",
    "        if nearest_home_key:\n",
    "            total_distance += distance * count\n",
    "\n",
    "total_distance = total_distance * 2\n",
    "print(\"Total finger travel distance:\", total_distance)"
   ]
  },
  {
   "cell_type": "code",
   "execution_count": null,
   "metadata": {
    "id": "Qg4WlmiSjcXF"
   },
   "outputs": [],
   "source": []
  }
 ],
 "metadata": {
  "colab": {
   "provenance": []
  },
  "kernelspec": {
   "display_name": "Python 3 (ipykernel)",
   "language": "python",
   "name": "python3"
  },
  "language_info": {
   "codemirror_mode": {
    "name": "ipython",
    "version": 3
   },
   "file_extension": ".py",
   "mimetype": "text/x-python",
   "name": "python",
   "nbconvert_exporter": "python",
   "pygments_lexer": "ipython3",
   "version": "3.11.5"
  }
 },
 "nbformat": 4,
 "nbformat_minor": 1
}
