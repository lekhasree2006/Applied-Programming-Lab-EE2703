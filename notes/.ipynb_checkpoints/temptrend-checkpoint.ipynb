{
 "cells": [
  {
   "cell_type": "code",
   "execution_count": null,
   "id": "0ae8caa5-95b5-4d1c-919e-2c8e8195a05e",
   "metadata": {},
   "outputs": [],
   "source": [
    "# Set up plotting\n",
    "# Magic command below to enable interactivity in the JupyterLab interface\n",
    "%matplotlib ipympl\n",
    "# Some basic imports that are useful\n",
    "import numpy as np\n",
    "import matplotlib.pyplot as plt\n",
    "import csv"
   ]
  },
  {
   "cell_type": "code",
   "execution_count": null,
   "id": "c4472065-4d16-4a42-8ded-c1ea7df2d892",
   "metadata": {},
   "outputs": [],
   "source": [
    "# Import the temperature data\n",
    "with open(\"globaltemp/london.csv\") as f:\n",
    "    d = csv.reader(f)\n",
    "    tb, tj = [], []\n",
    "    for r in d:\n",
    "        if r[0][5:] == '06-01':\n",
    "            if r[1] == '':\n",
    "                pass\n",
    "                # tj.append(np.NaN)\n",
    "            else:\n",
    "                tb.append(int(r[0][:4]))\n",
    "                tj.append(float(r[1]))\n",
    "tb = np.array(tb)\n",
    "tj = np.array(tj)\n",
    "tb = tb[-30:]\n",
    "tj = tj[-30:]"
   ]
  },
  {
   "cell_type": "code",
   "execution_count": null,
   "id": "04edce8a-5589-48e5-a0d2-24afa4513923",
   "metadata": {},
   "outputs": [],
   "source": [
    "# Clean up with interpolation\n",
    "# Find locations of all NaN values\n",
    "# mask = np.isnan(tj)\n",
    "# x = np.flatnonzero(mask)\n",
    "# xp = np.flatnonzero(~mask)\n",
    "# tj[x] = np.interp(tb[x], tb[xp], tj[xp])"
   ]
  },
  {
   "cell_type": "code",
   "execution_count": null,
   "id": "31bb1b10-decc-4e38-ad37-3778a2e701ee",
   "metadata": {},
   "outputs": [],
   "source": [
    "plt.plot(tb, tj)"
   ]
  },
  {
   "cell_type": "code",
   "execution_count": null,
   "id": "4507b3b7-8753-4d7b-94d4-6cb652189074",
   "metadata": {},
   "outputs": [],
   "source": [
    "# Construct matrix for linear interpolation\n",
    "M = np.column_stack([tb, np.ones(len(tb))])\n",
    "# sp = 200\n",
    "# M1 = np.column_stack([tb[:sp], np.ones(sp)])\n",
    "# M2 = np.column_stack([tb[sp:], np.ones(len(tb)-sp)])"
   ]
  },
  {
   "cell_type": "code",
   "execution_count": null,
   "id": "eab4e225-07d1-4f27-a6b1-c0abf0ecc868",
   "metadata": {},
   "outputs": [],
   "source": [
    "# Solve the least squares fit\n",
    "(p1, p2), _, _, _ = np.linalg.lstsq(M, tj, rcond=None)\n",
    "# (p11, p21), _, _, _ = np.linalg.lstsq(M1, tj[:sp], rcond=None)\n",
    "# (p12, p22), _, _, _ = np.linalg.lstsq(M2, tj[sp:], rcond=None)\n",
    "\n",
    "print(f\"The best fit is {p1} * year + {p2}\")\n",
    "# print(f\"First set: {p11} * year + {p21}\")\n",
    "# print(f\"Latter set: {p12} * year + {p22}\")"
   ]
  },
  {
   "cell_type": "code",
   "execution_count": null,
   "id": "63824af8-634a-49d5-912a-88fcb182535c",
   "metadata": {},
   "outputs": [],
   "source": [
    "plt.plot(tb, tj, tb, p1*tb+p2)\n",
    "# plt.plot(tb, tj, tb, p1*tb+p2, tb, p11*tb+p21, tb, p12*tb+p22)"
   ]
  },
  {
   "cell_type": "code",
   "execution_count": null,
   "id": "ab879acc-0230-498d-981f-3a448112b15c",
   "metadata": {},
   "outputs": [],
   "source": []
  },
  {
   "cell_type": "code",
   "execution_count": null,
   "id": "f6b4cb10-6c02-4f40-85b1-07359844fa7b",
   "metadata": {},
   "outputs": [],
   "source": []
  }
 ],
 "metadata": {
  "kernelspec": {
   "display_name": "Python 3 (ipykernel)",
   "language": "python",
   "name": "python3"
  },
  "language_info": {
   "codemirror_mode": {
    "name": "ipython",
    "version": 3
   },
   "file_extension": ".py",
   "mimetype": "text/x-python",
   "name": "python",
   "nbconvert_exporter": "python",
   "pygments_lexer": "ipython3",
   "version": "3.11.5"
  }
 },
 "nbformat": 4,
 "nbformat_minor": 5
}
