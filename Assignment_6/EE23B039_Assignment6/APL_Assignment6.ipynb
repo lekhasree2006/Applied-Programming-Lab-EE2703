{
 "cells": [
  {
   "cell_type": "code",
   "execution_count": 60,
   "id": "2be3c2f4-1a29-450c-adda-de33b1884b16",
   "metadata": {},
   "outputs": [],
   "source": [
    "import numpy as np\n",
    "import time"
   ]
  },
  {
   "cell_type": "code",
   "execution_count": 61,
   "id": "f7282dd0-1669-4741-b509-29a63f33c2cf",
   "metadata": {},
   "outputs": [],
   "source": [
    "\"\"\"\n",
    "height h of each trapezoid is founb by doing b-a/n as all the trapezoids are equally distributed\n",
    "area under the curve is found by summing up area of each trapezoid by directly applying the area of trapezoid formula.\n",
    "\"\"\"\n",
    "def py_trapz(f, a, b, n):\n",
    "    area = 0\n",
    "    h = (b - a)/n\n",
    "    for i in range(n):\n",
    "        x0 = a + i * h      \n",
    "        x1 = a + (i + 1) * h \n",
    "        area += (f(x0) + f(x1)) * 0.5 * h  \n",
    "    return area"
   ]
  },
  {
   "cell_type": "code",
   "execution_count": 62,
   "id": "c3ba0762-a025-4635-91ca-d97633ebd813",
   "metadata": {},
   "outputs": [
    {
     "name": "stdout",
     "output_type": "stream",
     "text": [
      "The Cython extension is already loaded. To reload it, use:\n",
      "  %reload_ext Cython\n"
     ]
    }
   ],
   "source": [
    "%load_ext Cython"
   ]
  },
  {
   "cell_type": "code",
   "execution_count": 65,
   "id": "973cdc38-043e-48f1-99be-9a6b48f81fc5",
   "metadata": {},
   "outputs": [],
   "source": [
    "%%cython\n",
    "\"\"\"\n",
    "cython's static tpying is done to improve speed by converting python code to c and then again the same method used in py_trapz is used to find area.\n",
    "\"\"\"\n",
    "cdef double cy_trapz(object f, double a, double b, int n):\n",
    "    cdef double h = (b - a) / n\n",
    "    cdef double result = 0.5 * (f(a) + f(b))\n",
    "    cdef int i\n",
    "\n",
    "    for i in range(1, n):\n",
    "        result += f(a + i * h)\n",
    "    return result * h\n",
    "\n",
    "def cython_trapz_test(f, a, b, n):\n",
    "    return cy_trapz(f, a, b, n)"
   ]
  },
  {
   "cell_type": "code",
   "execution_count": 66,
   "id": "b8a80887-8de6-478d-91db-4127f85c3ca2",
   "metadata": {},
   "outputs": [],
   "source": [
    "#using in-built numpy function\n",
    "def numpy_trapz(f, a, b, n):\n",
    "    x = np.linspace(a, b, n + 1)\n",
    "    y = f(x)\n",
    "    return np.trapz(y, x)"
   ]
  },
  {
   "cell_type": "code",
   "execution_count": 67,
   "id": "a7e22637-9307-4b32-a89a-117ec9d90c4c",
   "metadata": {},
   "outputs": [],
   "source": [
    "#all the 4 functions are defined seperately\n",
    "def x2(x): return x**2\n",
    "def sinx(x): return np.sin(x)\n",
    "def ex(x): return np.exp(x)\n",
    "def inv(x): return 1/x"
   ]
  },
  {
   "cell_type": "code",
   "execution_count": 86,
   "id": "aa1c32aa-0508-4ae0-8ecd-e59aaaef2d64",
   "metadata": {},
   "outputs": [
    {
     "name": "stdout",
     "output_type": "stream",
     "text": [
      "Python Result: 0.33333349999999984, Time: 0.000390s, Error: 1.6666666652342954e-07\n",
      "Cython Result: 0.33333349999999995, Time: 0.000124s, Error: 1.6666666663445184e-07\n",
      "NumPy Result: 0.3333335, Time: 0.000254s, Error: 1.66666666689963e-07\n",
      "Python Result: 1.999998355065662, Time: 0.001727s, Error: 0.9999983550656619\n",
      "Cython Result: 1.9999983550656624, Time: 0.000696s, Error: 0.9999983550656624\n",
      "NumPy Result: 1.9999983550656628, Time: 0.001002s, Error: 0.9999983550656628\n",
      "Python Result: 1.718281971649196, Time: 0.001722s, Error: 1.431901508475164e-07\n",
      "Cython Result: 1.7182819716491962, Time: 0.000721s, Error: 1.43190151069561e-07\n",
      "NumPy Result: 1.718281971649195, Time: 0.000137s, Error: 1.4319014995933799e-07\n",
      "Python Result: 0.6931472430599359, Time: 0.000304s, Error: 6.249999062735156e-08\n",
      "Cython Result: 0.6931472430599374, Time: 0.000089s, Error: 6.24999920706415e-08\n",
      "NumPy Result: 0.6931472430599375, Time: 0.000130s, Error: 6.24999921816638e-08\n"
     ]
    }
   ],
   "source": [
    "# Function to calculate the exact integral value for error calculation\n",
    "def exact_integral(f, a, b):\n",
    "    if f == x2:\n",
    "        return (b**3 - a**3) / 3  # ∫x^2 dx from a to b = (b^3 - a^3) / 3\n",
    "    if f == sinx:\n",
    "        return 1  # ∫sin(x) dx from 0 to π = 2\n",
    "    if f == ex:\n",
    "        return np.exp(b) - np.exp(a)  # ∫e^x dx from a to b = e^b - e^a\n",
    "    if f == inv:\n",
    "        return np.log(b) - np.log(a)  # ∫1/x dx from a to b = ln(b) - ln(a)\n",
    "    \n",
    "    \n",
    "#function to print out the results\n",
    "def final(f, a, b, n):\n",
    "    exact_value = exact_integral(f, a, b)\n",
    "    start = time.time()\n",
    "    result_python = py_trapz(f, a, b, n)\n",
    "    end = time.time()\n",
    "    error_python = abs(exact_value - result_python)\n",
    "    print(f\"Python Result: {result_python}, Time: {end - start:.6f}s, Error: {error_python}\")\n",
    "    \n",
    "    start = time.time()\n",
    "    result_cython = cython_trapz_test(f, a, b, n) \n",
    "    end = time.time()\n",
    "    error_cython = abs(exact_value - result_cython)\n",
    "    print(f\"Cython Result: {result_cython}, Time: {end - start:.6f}s, Error: {error_cython}\")\n",
    "    \n",
    "    start = time.time()\n",
    "    result_numpy = numpy_trapz(f, a, b, n)\n",
    "    end = time.time()\n",
    "    error_numpy = abs(exact_value - result_numpy)\n",
    "    print(f\"NumPy Result: {result_numpy}, Time: {end - start:.6f}s, Error: {error_numpy}\")\n",
    "    \n",
    "    \n",
    "final(x2, 0, 1, 1000)\n",
    "final(sinx, 0, np.pi, 1000)\n",
    "final(ex, 0, 1, 1000)\n",
    "final(inv, 1, 2, 1000)"
   ]
  },
  {
   "cell_type": "code",
   "execution_count": 71,
   "id": "58b812f3-3281-488e-b6f3-77a7c836a0bf",
   "metadata": {},
   "outputs": [
    {
     "name": "stdout",
     "output_type": "stream",
     "text": [
      "Python Result: 333.3333333333152, Time: 3.700722s\n",
      "Cython Result: 333.33333333334724, Time: 1.128303s\n",
      "NumPy Result: 333.3333333333349, Time: 0.141199s\n"
     ]
    }
   ],
   "source": [
    "#a performance test by integrating f(x) = x^2 from 0 to 10 with 10 million trapezoids\n",
    "final(x2, 0, 10, 10000000)"
   ]
  }
 ],
 "metadata": {
  "kernelspec": {
   "display_name": "Python 3 (ipykernel)",
   "language": "python",
   "name": "python3"
  },
  "language_info": {
   "codemirror_mode": {
    "name": "ipython",
    "version": 3
   },
   "file_extension": ".py",
   "mimetype": "text/x-python",
   "name": "python",
   "nbconvert_exporter": "python",
   "pygments_lexer": "ipython3",
   "version": "3.9.2"
  }
 },
 "nbformat": 4,
 "nbformat_minor": 5
}
