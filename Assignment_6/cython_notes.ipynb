{
 "cells": [
  {
   "cell_type": "markdown",
   "id": "b0dc7bc1-8d6c-4fd0-a0e8-5db1df8fca43",
   "metadata": {},
   "source": [
    "# Compilation and Speeding Up\n",
    "\n",
    "Python is an interpreted language.  This means that the code you write is basically being interpreted line by line (this is an oversimplification, but not far from the truth).  Each time a line of code is read, it has to be converted into equivalent machine language instructions.  For example, a `for` loop will need a register to be initialized, an instruction for incrementing the counter, an instruction to check the limits, and suitable branching statements.\n",
    "\n",
    "When a program is *compiled*, it is converted into machine language once and for all, and only that code is then run.  This also means that any change in the code requires a complete recompilation.  Compared to Python, this is less interactive and takes a longer time to do.\n",
    "\n",
    "So compiled languages pay a cost at compile time, and reap the benefits at run time.  If you expect that your program is going to run multiple times, then it is usually worth checking if this cost is worth it."
   ]
  },
  {
   "cell_type": "markdown",
   "id": "37e6f8b6-32bc-4625-9455-c3c4d5512b3e",
   "metadata": {},
   "source": [
    "## Speed of Python\n",
    "\n",
    "Python code is typically slow for a number of reasons:\n",
    "\n",
    "- Data types are not known ahead of time, and the type of a variable can be dynamically changed.  You can store a string in a variable that previously had an `int` for example, and there will be no conflict.  This makes it hard to optimize variables as you do not know how they will change in future.\n",
    "- Semantics of certain operations are different in Python than they are in other languages or machine code.  For example, *Divide by Zero* will cause an exception to be raised in Python code.  On the other hand, in C code it will result in the program crashing.  It may be possible to catch this exception in languages like C++, but it is optional and not mandatory, so it is possible to crash as well.  Such checks add extra code and slow the program down.\n",
    "- Accessing an index that is beyond the bounds of a list will cause an Error to be raised.  In C it will not be an error, but may cause the program to crash with a Segmentation Fault.\n",
    "\n",
    "Similarly, there are other situations where the semantics of the Python code differ from a similar C or machine language representation.  Whenever this happens, there is a chance that the Python will be slower than the raw code.\n",
    "\n",
    "## Improving Speed\n",
    "\n",
    "The simplest approach for speeding things up is to try and convert the Python code to a lower level language like C, compile it, and then run the compiled code.  However, due to the above restrictions, this has to be done with care, to avoid changing the meaning of the program.\n",
    "\n",
    "## Cython\n",
    "\n",
    "*Cython* is a particular variant of the Python language: it introduces several new syntactic elements into the language to address the issues with types and compilation.  The usual way of running it is to compile the code into a dynamic library, and then import this into Python.  However, in Jupyter notebooks, there is an easier approach that can be used, which makes use of the Cython extensions and *magic annotations*."
   ]
  },
  {
   "cell_type": "markdown",
   "id": "32863242-1fbd-4877-a00e-1581be96f196",
   "metadata": {},
   "source": [
    "# Timing and Optimization\n",
    "\n",
    "We first measure the time taken for a simple function.  Then we can look at optimizing this using Cython."
   ]
  },
  {
   "cell_type": "code",
   "execution_count": 3,
   "id": "157ec55c-0a02-4ded-a199-af6e708e00e3",
   "metadata": {},
   "outputs": [],
   "source": [
    "def isPrime(n):\n",
    "    for i in range(2,int(n**0.5)+1):\n",
    "        if n%i==0:\n",
    "            return False\n",
    "        \n",
    "    return True"
   ]
  },
  {
   "cell_type": "code",
   "execution_count": 4,
   "id": "e2939122-e8da-4f90-b198-1be2c38b2b0c",
   "metadata": {},
   "outputs": [
    {
     "name": "stdout",
     "output_type": "stream",
     "text": [
      "4.8 ms ± 357 µs per loop (mean ± std. dev. of 7 runs, 100 loops each)\n"
     ]
    }
   ],
   "source": [
    "%timeit isPrime(999999937)"
   ]
  },
  {
   "cell_type": "markdown",
   "id": "2cdff68a-607f-4032-9e53-ce6812f01230",
   "metadata": {},
   "source": [
    "## Cython\n",
    "\n",
    "First we just apply cython without any optimizations.  Later we will see the effect of adding the optimizations to it."
   ]
  },
  {
   "cell_type": "code",
   "execution_count": 6,
   "id": "c0580962",
   "metadata": {},
   "outputs": [
    {
     "name": "stdout",
     "output_type": "stream",
     "text": [
      "Collecting cython\n",
      "  Obtaining dependency information for cython from https://files.pythonhosted.org/packages/fd/10/236fcc0306f85a2db1b8bc147aea714b66a2f27bac4d9e09e5b2c5d5dcca/Cython-3.0.11-cp311-cp311-win_amd64.whl.metadata\n",
      "  Downloading Cython-3.0.11-cp311-cp311-win_amd64.whl.metadata (3.2 kB)\n",
      "Downloading Cython-3.0.11-cp311-cp311-win_amd64.whl (2.8 MB)\n",
      "   ---------------------------------------- 0.0/2.8 MB ? eta -:--:--\n",
      "   ---------------------------------------- 0.0/2.8 MB ? eta -:--:--\n",
      "    --------------------------------------- 0.0/2.8 MB 487.6 kB/s eta 0:00:06\n",
      "   - -------------------------------------- 0.1/2.8 MB 1.2 MB/s eta 0:00:03\n",
      "   --- ------------------------------------ 0.3/2.8 MB 1.9 MB/s eta 0:00:02\n",
      "   ----- ---------------------------------- 0.4/2.8 MB 2.1 MB/s eta 0:00:02\n",
      "   ------- -------------------------------- 0.5/2.8 MB 2.3 MB/s eta 0:00:01\n",
      "   --------- ------------------------------ 0.7/2.8 MB 2.3 MB/s eta 0:00:01\n",
      "   ----------- ---------------------------- 0.8/2.8 MB 2.6 MB/s eta 0:00:01\n",
      "   -------------- ------------------------- 1.0/2.8 MB 2.8 MB/s eta 0:00:01\n",
      "   ---------------- ----------------------- 1.2/2.8 MB 2.9 MB/s eta 0:00:01\n",
      "   ------------------- -------------------- 1.4/2.8 MB 3.1 MB/s eta 0:00:01\n",
      "   --------------------- ------------------ 1.5/2.8 MB 3.0 MB/s eta 0:00:01\n",
      "   ---------------------- ----------------- 1.6/2.8 MB 3.1 MB/s eta 0:00:01\n",
      "   ------------------------- -------------- 1.8/2.8 MB 3.1 MB/s eta 0:00:01\n",
      "   ----------------------------- ---------- 2.1/2.8 MB 3.4 MB/s eta 0:00:01\n",
      "   --------------------------------- ------ 2.3/2.8 MB 3.5 MB/s eta 0:00:01\n",
      "   ------------------------------------ --- 2.5/2.8 MB 3.6 MB/s eta 0:00:01\n",
      "   ---------------------------------------  2.8/2.8 MB 3.7 MB/s eta 0:00:01\n",
      "   ---------------------------------------- 2.8/2.8 MB 3.5 MB/s eta 0:00:00\n",
      "Installing collected packages: cython\n",
      "Successfully installed cython-3.0.11\n",
      "Note: you may need to restart the kernel to use updated packages.\n"
     ]
    },
    {
     "name": "stderr",
     "output_type": "stream",
     "text": [
      "ERROR: pip's dependency resolver does not currently take into account all the packages that are installed. This behaviour is the source of the following dependency conflicts.\n",
      "tables 3.8.0 requires blosc2~=2.0.0, which is not installed.\n"
     ]
    }
   ],
   "source": [
    "pip install cython"
   ]
  },
  {
   "cell_type": "code",
   "execution_count": 7,
   "id": "199d5040-7961-46e7-a380-837b7a022133",
   "metadata": {},
   "outputs": [],
   "source": [
    "%load_ext Cython"
   ]
  },
  {
   "cell_type": "code",
   "execution_count": 8,
   "id": "ee4f0740-e914-4443-b6c0-e5b1ad261bf8",
   "metadata": {},
   "outputs": [
    {
     "ename": "DistutilsPlatformError",
     "evalue": "Microsoft Visual C++ 14.0 or greater is required. Get it with \"Microsoft C++ Build Tools\": https://visualstudio.microsoft.com/visual-cpp-build-tools/",
     "output_type": "error",
     "traceback": [
      "\u001b[1;31m---------------------------------------------------------------------------\u001b[0m",
      "\u001b[1;31mDistutilsPlatformError\u001b[0m                    Traceback (most recent call last)",
      "Cell \u001b[1;32mIn[8], line 1\u001b[0m\n\u001b[1;32m----> 1\u001b[0m get_ipython()\u001b[38;5;241m.\u001b[39mrun_cell_magic(\u001b[38;5;124m'\u001b[39m\u001b[38;5;124mcython\u001b[39m\u001b[38;5;124m'\u001b[39m, \u001b[38;5;124m'\u001b[39m\u001b[38;5;124m--annotate\u001b[39m\u001b[38;5;124m'\u001b[39m, \u001b[38;5;124m'\u001b[39m\u001b[38;5;130;01m\\n\u001b[39;00m\u001b[38;5;124mdef cbasic_isPrime(n):\u001b[39m\u001b[38;5;130;01m\\n\u001b[39;00m\u001b[38;5;124m    for i in range(2,int(n**0.5)+1):\u001b[39m\u001b[38;5;130;01m\\n\u001b[39;00m\u001b[38;5;124m        if n\u001b[39m\u001b[38;5;132;01m%i\u001b[39;00m\u001b[38;5;124m==0:\u001b[39m\u001b[38;5;130;01m\\n\u001b[39;00m\u001b[38;5;124m            return False\u001b[39m\u001b[38;5;130;01m\\n\u001b[39;00m\u001b[38;5;124m        \u001b[39m\u001b[38;5;130;01m\\n\u001b[39;00m\u001b[38;5;124m    return True\u001b[39m\u001b[38;5;130;01m\\n\u001b[39;00m\u001b[38;5;124m'\u001b[39m)\n",
      "File \u001b[1;32m~\\anaconda3\\Lib\\site-packages\\IPython\\core\\interactiveshell.py:2493\u001b[0m, in \u001b[0;36mInteractiveShell.run_cell_magic\u001b[1;34m(self, magic_name, line, cell)\u001b[0m\n\u001b[0;32m   2491\u001b[0m \u001b[38;5;28;01mwith\u001b[39;00m \u001b[38;5;28mself\u001b[39m\u001b[38;5;241m.\u001b[39mbuiltin_trap:\n\u001b[0;32m   2492\u001b[0m     args \u001b[38;5;241m=\u001b[39m (magic_arg_s, cell)\n\u001b[1;32m-> 2493\u001b[0m     result \u001b[38;5;241m=\u001b[39m fn(\u001b[38;5;241m*\u001b[39margs, \u001b[38;5;241m*\u001b[39m\u001b[38;5;241m*\u001b[39mkwargs)\n\u001b[0;32m   2495\u001b[0m \u001b[38;5;66;03m# The code below prevents the output from being displayed\u001b[39;00m\n\u001b[0;32m   2496\u001b[0m \u001b[38;5;66;03m# when using magics with decorator @output_can_be_silenced\u001b[39;00m\n\u001b[0;32m   2497\u001b[0m \u001b[38;5;66;03m# when the last Python token in the expression is a ';'.\u001b[39;00m\n\u001b[0;32m   2498\u001b[0m \u001b[38;5;28;01mif\u001b[39;00m \u001b[38;5;28mgetattr\u001b[39m(fn, magic\u001b[38;5;241m.\u001b[39mMAGIC_OUTPUT_CAN_BE_SILENCED, \u001b[38;5;28;01mFalse\u001b[39;00m):\n",
      "File \u001b[1;32m~\\anaconda3\\Lib\\site-packages\\Cython\\Build\\IpythonMagic.py:349\u001b[0m, in \u001b[0;36mCythonMagics.cython\u001b[1;34m(self, line, cell)\u001b[0m\n\u001b[0;32m    347\u001b[0m     \u001b[38;5;28;01mwith\u001b[39;00m captured_fd(\u001b[38;5;241m1\u001b[39m) \u001b[38;5;28;01mas\u001b[39;00m get_stdout:\n\u001b[0;32m    348\u001b[0m         \u001b[38;5;28;01mwith\u001b[39;00m captured_fd(\u001b[38;5;241m2\u001b[39m) \u001b[38;5;28;01mas\u001b[39;00m get_stderr:\n\u001b[1;32m--> 349\u001b[0m             \u001b[38;5;28mself\u001b[39m\u001b[38;5;241m.\u001b[39m_build_extension(\n\u001b[0;32m    350\u001b[0m                 extension, lib_dir, pgo_step_name\u001b[38;5;241m=\u001b[39m\u001b[38;5;124m'\u001b[39m\u001b[38;5;124muse\u001b[39m\u001b[38;5;124m'\u001b[39m \u001b[38;5;28;01mif\u001b[39;00m args\u001b[38;5;241m.\u001b[39mpgo \u001b[38;5;28;01melse\u001b[39;00m \u001b[38;5;28;01mNone\u001b[39;00m, quiet\u001b[38;5;241m=\u001b[39margs\u001b[38;5;241m.\u001b[39mquiet)\n\u001b[0;32m    351\u001b[0m \u001b[38;5;28;01mexcept\u001b[39;00m (distutils\u001b[38;5;241m.\u001b[39merrors\u001b[38;5;241m.\u001b[39mCompileError, distutils\u001b[38;5;241m.\u001b[39merrors\u001b[38;5;241m.\u001b[39mLinkError):\n\u001b[0;32m    352\u001b[0m     \u001b[38;5;66;03m# Build failed, print error message from compiler/linker\u001b[39;00m\n\u001b[0;32m    353\u001b[0m     print_compiler_output(get_stdout(), get_stderr(), sys\u001b[38;5;241m.\u001b[39mstderr)\n",
      "File \u001b[1;32m~\\anaconda3\\Lib\\site-packages\\Cython\\Build\\IpythonMagic.py:466\u001b[0m, in \u001b[0;36mCythonMagics._build_extension\u001b[1;34m(self, extension, lib_dir, temp_dir, pgo_step_name, quiet)\u001b[0m\n\u001b[0;32m    464\u001b[0m     \u001b[38;5;28;01mif\u001b[39;00m \u001b[38;5;129;01mnot\u001b[39;00m quiet:\n\u001b[0;32m    465\u001b[0m         old_threshold \u001b[38;5;241m=\u001b[39m distutils\u001b[38;5;241m.\u001b[39mlog\u001b[38;5;241m.\u001b[39mset_threshold(distutils\u001b[38;5;241m.\u001b[39mlog\u001b[38;5;241m.\u001b[39mDEBUG)\n\u001b[1;32m--> 466\u001b[0m     build_extension\u001b[38;5;241m.\u001b[39mrun()\n\u001b[0;32m    467\u001b[0m \u001b[38;5;28;01mfinally\u001b[39;00m:\n\u001b[0;32m    468\u001b[0m     \u001b[38;5;28;01mif\u001b[39;00m \u001b[38;5;129;01mnot\u001b[39;00m quiet \u001b[38;5;129;01mand\u001b[39;00m old_threshold \u001b[38;5;129;01mis\u001b[39;00m \u001b[38;5;129;01mnot\u001b[39;00m \u001b[38;5;28;01mNone\u001b[39;00m:\n",
      "File \u001b[1;32m~\\anaconda3\\Lib\\site-packages\\setuptools\\_distutils\\command\\build_ext.py:345\u001b[0m, in \u001b[0;36mbuild_ext.run\u001b[1;34m(self)\u001b[0m\n\u001b[0;32m    342\u001b[0m     \u001b[38;5;28mself\u001b[39m\u001b[38;5;241m.\u001b[39mcompiler\u001b[38;5;241m.\u001b[39mset_link_objects(\u001b[38;5;28mself\u001b[39m\u001b[38;5;241m.\u001b[39mlink_objects)\n\u001b[0;32m    344\u001b[0m \u001b[38;5;66;03m# Now actually compile and link everything.\u001b[39;00m\n\u001b[1;32m--> 345\u001b[0m \u001b[38;5;28mself\u001b[39m\u001b[38;5;241m.\u001b[39mbuild_extensions()\n",
      "File \u001b[1;32m~\\anaconda3\\Lib\\site-packages\\setuptools\\_distutils\\command\\build_ext.py:467\u001b[0m, in \u001b[0;36mbuild_ext.build_extensions\u001b[1;34m(self)\u001b[0m\n\u001b[0;32m    465\u001b[0m     \u001b[38;5;28mself\u001b[39m\u001b[38;5;241m.\u001b[39m_build_extensions_parallel()\n\u001b[0;32m    466\u001b[0m \u001b[38;5;28;01melse\u001b[39;00m:\n\u001b[1;32m--> 467\u001b[0m     \u001b[38;5;28mself\u001b[39m\u001b[38;5;241m.\u001b[39m_build_extensions_serial()\n",
      "File \u001b[1;32m~\\anaconda3\\Lib\\site-packages\\setuptools\\_distutils\\command\\build_ext.py:493\u001b[0m, in \u001b[0;36mbuild_ext._build_extensions_serial\u001b[1;34m(self)\u001b[0m\n\u001b[0;32m    491\u001b[0m \u001b[38;5;28;01mfor\u001b[39;00m ext \u001b[38;5;129;01min\u001b[39;00m \u001b[38;5;28mself\u001b[39m\u001b[38;5;241m.\u001b[39mextensions:\n\u001b[0;32m    492\u001b[0m     \u001b[38;5;28;01mwith\u001b[39;00m \u001b[38;5;28mself\u001b[39m\u001b[38;5;241m.\u001b[39m_filter_build_errors(ext):\n\u001b[1;32m--> 493\u001b[0m         \u001b[38;5;28mself\u001b[39m\u001b[38;5;241m.\u001b[39mbuild_extension(ext)\n",
      "File \u001b[1;32m~\\anaconda3\\Lib\\site-packages\\setuptools\\_distutils\\command\\build_ext.py:548\u001b[0m, in \u001b[0;36mbuild_ext.build_extension\u001b[1;34m(self, ext)\u001b[0m\n\u001b[0;32m    545\u001b[0m \u001b[38;5;28;01mfor\u001b[39;00m undef \u001b[38;5;129;01min\u001b[39;00m ext\u001b[38;5;241m.\u001b[39mundef_macros:\n\u001b[0;32m    546\u001b[0m     macros\u001b[38;5;241m.\u001b[39mappend((undef,))\n\u001b[1;32m--> 548\u001b[0m objects \u001b[38;5;241m=\u001b[39m \u001b[38;5;28mself\u001b[39m\u001b[38;5;241m.\u001b[39mcompiler\u001b[38;5;241m.\u001b[39mcompile(\n\u001b[0;32m    549\u001b[0m     sources,\n\u001b[0;32m    550\u001b[0m     output_dir\u001b[38;5;241m=\u001b[39m\u001b[38;5;28mself\u001b[39m\u001b[38;5;241m.\u001b[39mbuild_temp,\n\u001b[0;32m    551\u001b[0m     macros\u001b[38;5;241m=\u001b[39mmacros,\n\u001b[0;32m    552\u001b[0m     include_dirs\u001b[38;5;241m=\u001b[39mext\u001b[38;5;241m.\u001b[39minclude_dirs,\n\u001b[0;32m    553\u001b[0m     debug\u001b[38;5;241m=\u001b[39m\u001b[38;5;28mself\u001b[39m\u001b[38;5;241m.\u001b[39mdebug,\n\u001b[0;32m    554\u001b[0m     extra_postargs\u001b[38;5;241m=\u001b[39mextra_args,\n\u001b[0;32m    555\u001b[0m     depends\u001b[38;5;241m=\u001b[39mext\u001b[38;5;241m.\u001b[39mdepends,\n\u001b[0;32m    556\u001b[0m )\n\u001b[0;32m    558\u001b[0m \u001b[38;5;66;03m# XXX outdated variable, kept here in case third-part code\u001b[39;00m\n\u001b[0;32m    559\u001b[0m \u001b[38;5;66;03m# needs it.\u001b[39;00m\n\u001b[0;32m    560\u001b[0m \u001b[38;5;28mself\u001b[39m\u001b[38;5;241m.\u001b[39m_built_objects \u001b[38;5;241m=\u001b[39m objects[:]\n",
      "File \u001b[1;32m~\\anaconda3\\Lib\\site-packages\\setuptools\\_distutils\\_msvccompiler.py:343\u001b[0m, in \u001b[0;36mMSVCCompiler.compile\u001b[1;34m(self, sources, output_dir, macros, include_dirs, debug, extra_preargs, extra_postargs, depends)\u001b[0m\n\u001b[0;32m    331\u001b[0m \u001b[38;5;28;01mdef\u001b[39;00m \u001b[38;5;21mcompile\u001b[39m(  \u001b[38;5;66;03m# noqa: C901\u001b[39;00m\n\u001b[0;32m    332\u001b[0m     \u001b[38;5;28mself\u001b[39m,\n\u001b[0;32m    333\u001b[0m     sources,\n\u001b[1;32m   (...)\u001b[0m\n\u001b[0;32m    340\u001b[0m     depends\u001b[38;5;241m=\u001b[39m\u001b[38;5;28;01mNone\u001b[39;00m,\n\u001b[0;32m    341\u001b[0m ):\n\u001b[0;32m    342\u001b[0m     \u001b[38;5;28;01mif\u001b[39;00m \u001b[38;5;129;01mnot\u001b[39;00m \u001b[38;5;28mself\u001b[39m\u001b[38;5;241m.\u001b[39minitialized:\n\u001b[1;32m--> 343\u001b[0m         \u001b[38;5;28mself\u001b[39m\u001b[38;5;241m.\u001b[39minitialize()\n\u001b[0;32m    344\u001b[0m     compile_info \u001b[38;5;241m=\u001b[39m \u001b[38;5;28mself\u001b[39m\u001b[38;5;241m.\u001b[39m_setup_compile(\n\u001b[0;32m    345\u001b[0m         output_dir, macros, include_dirs, sources, depends, extra_postargs\n\u001b[0;32m    346\u001b[0m     )\n\u001b[0;32m    347\u001b[0m     macros, objects, extra_postargs, pp_opts, build \u001b[38;5;241m=\u001b[39m compile_info\n",
      "File \u001b[1;32m~\\anaconda3\\Lib\\site-packages\\setuptools\\_distutils\\_msvccompiler.py:253\u001b[0m, in \u001b[0;36mMSVCCompiler.initialize\u001b[1;34m(self, plat_name)\u001b[0m\n\u001b[0;32m    250\u001b[0m \u001b[38;5;66;03m# Get the vcvarsall.bat spec for the requested platform.\u001b[39;00m\n\u001b[0;32m    251\u001b[0m plat_spec \u001b[38;5;241m=\u001b[39m PLAT_TO_VCVARS[plat_name]\n\u001b[1;32m--> 253\u001b[0m vc_env \u001b[38;5;241m=\u001b[39m _get_vc_env(plat_spec)\n\u001b[0;32m    254\u001b[0m \u001b[38;5;28;01mif\u001b[39;00m \u001b[38;5;129;01mnot\u001b[39;00m vc_env:\n\u001b[0;32m    255\u001b[0m     \u001b[38;5;28;01mraise\u001b[39;00m DistutilsPlatformError(\n\u001b[0;32m    256\u001b[0m         \u001b[38;5;124m\"\u001b[39m\u001b[38;5;124mUnable to find a compatible \u001b[39m\u001b[38;5;124m\"\u001b[39m \u001b[38;5;124m\"\u001b[39m\u001b[38;5;124mVisual Studio installation.\u001b[39m\u001b[38;5;124m\"\u001b[39m\n\u001b[0;32m    257\u001b[0m     )\n",
      "File \u001b[1;32m~\\anaconda3\\Lib\\site-packages\\setuptools\\msvc.py:214\u001b[0m, in \u001b[0;36mmsvc14_get_vc_env\u001b[1;34m(plat_spec)\u001b[0m\n\u001b[0;32m    212\u001b[0m \u001b[38;5;66;03m# Always use backport from CPython 3.8\u001b[39;00m\n\u001b[0;32m    213\u001b[0m \u001b[38;5;28;01mtry\u001b[39;00m:\n\u001b[1;32m--> 214\u001b[0m     \u001b[38;5;28;01mreturn\u001b[39;00m _msvc14_get_vc_env(plat_spec)\n\u001b[0;32m    215\u001b[0m \u001b[38;5;28;01mexcept\u001b[39;00m distutils\u001b[38;5;241m.\u001b[39merrors\u001b[38;5;241m.\u001b[39mDistutilsPlatformError \u001b[38;5;28;01mas\u001b[39;00m exc:\n\u001b[0;32m    216\u001b[0m     _augment_exception(exc, \u001b[38;5;241m14.0\u001b[39m)\n",
      "File \u001b[1;32m~\\anaconda3\\Lib\\site-packages\\setuptools\\msvc.py:168\u001b[0m, in \u001b[0;36m_msvc14_get_vc_env\u001b[1;34m(plat_spec)\u001b[0m\n\u001b[0;32m    166\u001b[0m vcvarsall, vcruntime \u001b[38;5;241m=\u001b[39m _msvc14_find_vcvarsall(plat_spec)\n\u001b[0;32m    167\u001b[0m \u001b[38;5;28;01mif\u001b[39;00m \u001b[38;5;129;01mnot\u001b[39;00m vcvarsall:\n\u001b[1;32m--> 168\u001b[0m     \u001b[38;5;28;01mraise\u001b[39;00m distutils\u001b[38;5;241m.\u001b[39merrors\u001b[38;5;241m.\u001b[39mDistutilsPlatformError(\n\u001b[0;32m    169\u001b[0m         \u001b[38;5;124m\"\u001b[39m\u001b[38;5;124mUnable to find vcvarsall.bat\u001b[39m\u001b[38;5;124m\"\u001b[39m\n\u001b[0;32m    170\u001b[0m     )\n\u001b[0;32m    172\u001b[0m \u001b[38;5;28;01mtry\u001b[39;00m:\n\u001b[0;32m    173\u001b[0m     out \u001b[38;5;241m=\u001b[39m subprocess\u001b[38;5;241m.\u001b[39mcheck_output(\n\u001b[0;32m    174\u001b[0m         \u001b[38;5;124m'\u001b[39m\u001b[38;5;124mcmd /u /c \u001b[39m\u001b[38;5;124m\"\u001b[39m\u001b[38;5;132;01m{}\u001b[39;00m\u001b[38;5;124m\"\u001b[39m\u001b[38;5;124m \u001b[39m\u001b[38;5;132;01m{}\u001b[39;00m\u001b[38;5;124m && set\u001b[39m\u001b[38;5;124m'\u001b[39m\u001b[38;5;241m.\u001b[39mformat(vcvarsall, plat_spec),\n\u001b[0;32m    175\u001b[0m         stderr\u001b[38;5;241m=\u001b[39msubprocess\u001b[38;5;241m.\u001b[39mSTDOUT,\n\u001b[0;32m    176\u001b[0m     )\u001b[38;5;241m.\u001b[39mdecode(\u001b[38;5;124m'\u001b[39m\u001b[38;5;124mutf-16le\u001b[39m\u001b[38;5;124m'\u001b[39m, errors\u001b[38;5;241m=\u001b[39m\u001b[38;5;124m'\u001b[39m\u001b[38;5;124mreplace\u001b[39m\u001b[38;5;124m'\u001b[39m)\n",
      "\u001b[1;31mDistutilsPlatformError\u001b[0m: Microsoft Visual C++ 14.0 or greater is required. Get it with \"Microsoft C++ Build Tools\": https://visualstudio.microsoft.com/visual-cpp-build-tools/"
     ]
    }
   ],
   "source": [
    "%%cython --annotate\n",
    "\n",
    "def cbasic_isPrime(n):\n",
    "    for i in range(2,int(n**0.5)+1):\n",
    "        if n%i==0:\n",
    "            return False\n",
    "        \n",
    "    return True"
   ]
  },
  {
   "cell_type": "code",
   "execution_count": null,
   "id": "e86d216a-7f4f-4ea0-ba27-3918836118e8",
   "metadata": {},
   "outputs": [],
   "source": [
    "%timeit cbasic_isPrime(999999937)"
   ]
  },
  {
   "cell_type": "markdown",
   "id": "a7d9f22b-3952-4883-831f-cbeb1c6e3045",
   "metadata": {},
   "source": [
    "### Optimized\n",
    "\n",
    "Now apply several optimizations.  In the code below, the actual optimizations are commented out.  Try uncommenting them one by one to try and see which has the biggest impact on the result.\n",
    "\n",
    "In general, you need to look for the following:\n",
    "\n",
    "- where is the bulk of the time being spent - most likely it is inside loops.  Here it is the `for` loop\n",
    "    - To handle this, we explicitly declare `i` as an integer: in fact, as a `cdef int`: this means a C type integer.  Try commenting that line out to see how it changes the result.\n",
    "- what kind of data types are being used?  C prefers to use data types close to what the computer has: for example 32-bit int, 32-bit single precision float etc.  These are highly optimized.  Python on the other hand naturally tries to accommodate larger integers if needed, but the cost of that is additional checks for overflow.  If you force it to use C data types, it will remove some of the checks.\n",
    "    - Which are all the lines here \n",
    "- what kind of operations are being used?  For example, C type division will work only within the precision of the numbers you are using, and will round off or give wrong answers if the numbers are out of range, rather than trying to catch the errors and report them.  This makes it possible to have severe errors, but if you know your values cannot fall in the error regions, you can use this."
   ]
  },
  {
   "cell_type": "code",
   "execution_count": null,
   "id": "2487e566-d72f-4066-90ce-4532a4e9738e",
   "metadata": {},
   "outputs": [],
   "source": [
    "%%cython --annotate\n",
    "\n",
    "import cython\n",
    "\n",
    "# @cython.cdivision(True)\n",
    "def c_isPrime(int n):\n",
    "    # cdef int i\n",
    "    # cdef float sqrtn = (n**0.5)\n",
    "    # cdef int lim = int(sqrtn)+1\n",
    "    # Note: if you uncomment the above two lines, then comment out the one below\n",
    "    lim = int(n**0.5) + 1\n",
    "    for i in range(2,lim):\n",
    "        if n%i==0:\n",
    "            return False\n",
    "        \n",
    "    return True"
   ]
  },
  {
   "cell_type": "code",
   "execution_count": null,
   "id": "35034636-6d73-4640-b463-b9520381faf6",
   "metadata": {},
   "outputs": [],
   "source": [
    "# %timeit c_isPrime(999999999)\n",
    "%timeit c_isPrime(999999937)"
   ]
  },
  {
   "cell_type": "markdown",
   "id": "27ba4c15",
   "metadata": {},
   "source": [
    "# Matrix multiplication\n"
   ]
  },
  {
   "cell_type": "code",
   "execution_count": null,
   "id": "55baf924",
   "metadata": {},
   "outputs": [],
   "source": [
    "import numpy as np\n",
    "def matrix_multiply(u, v):\n",
    "    m, n = u.shape\n",
    "    n, p = v.shape\n",
    "    res = np.zeros((m, p))\n",
    "    for i in range(m):\n",
    "        for j in range(p):\n",
    "            res[i,j] = 0\n",
    "            for k in range(n):\n",
    "                res[i,j] += u[i,k] * v[k,j]\n",
    "    return res\n"
   ]
  },
  {
   "cell_type": "code",
   "execution_count": null,
   "id": "8e820ced",
   "metadata": {},
   "outputs": [],
   "source": [
    "u = np.random.random((100,100))\n",
    "v = np.random.random((100,100))\n",
    "# %timeit -n 100 -r 3 matrix_multiply(u,v)\n",
    "# %timeit matrix_multiply(u, v)\n",
    "# %timeit np.matmul(u, v)"
   ]
  },
  {
   "cell_type": "markdown",
   "id": "d84b4375-e253-44e8-ae16-67e90183ec11",
   "metadata": {},
   "source": [
    "## Optimized Matrix Multiply\n",
    "\n",
    "Can we apply the same techniques to speed up matrix multiply in Python?  Consider all the places where changes would make sense.  In addition, there are a couple of decorators that also help to speed things up by avoiding extra checks on the array sizes."
   ]
  },
  {
   "cell_type": "code",
   "execution_count": null,
   "id": "32f6832e-82a0-49d2-a654-4d49c2a9c90e",
   "metadata": {},
   "outputs": [],
   "source": [
    "%load_ext Cython"
   ]
  },
  {
   "cell_type": "code",
   "execution_count": null,
   "id": "80a7120b",
   "metadata": {},
   "outputs": [],
   "source": [
    "%%cython -a\n",
    "\n",
    "import numpy as np\n",
    "import cython\n",
    "\n",
    "@cython.boundscheck(False)\n",
    "@cython.wraparound(False)\n",
    "def cy_matmul(float[:,:] u, float[:,:] v, float[:,:] res):\n",
    "# def cy_matmul(u, v, res):\n",
    "    cdef int m, n, p\n",
    "    cdef int i, j, k\n",
    "    m = u.shape[0]\n",
    "    n = u.shape[1]\n",
    "    p = v.shape[1]\n",
    "    res = np.zeros((m, p), dtype=np.float32)\n",
    "    for i in range(m):\n",
    "        for j in range(p):\n",
    "            res[i,j] = 0\n",
    "            for k in range(n):\n",
    "                res[i,j] += u[i,k] * v[k,j]\n",
    "    return res\n"
   ]
  },
  {
   "cell_type": "code",
   "execution_count": null,
   "id": "f132b3b7-5962-4a5f-9d99-968d9f83ef39",
   "metadata": {},
   "outputs": [],
   "source": [
    "# u = np.float32(np.random.random((100,1000)))\n",
    "# v = np.float32(np.random.random((1000,100)))\n",
    "# res = np.zeros((100, 100), dtype=np.float32)\n",
    "# %timeit cy_matmul(u, v, res)"
   ]
  },
  {
   "cell_type": "markdown",
   "id": "42cfb37c-946e-43a8-bd23-80f2528e8cfd",
   "metadata": {},
   "source": [
    "## Performance testing\n",
    "\n",
    "Try iterating this across different combinations of matrix sizes to see how the time varies."
   ]
  },
  {
   "cell_type": "code",
   "execution_count": null,
   "id": "343f0170-8c5c-447c-a895-565105f61cfd",
   "metadata": {},
   "outputs": [],
   "source": [
    "M, N, P = 100, 100, 100\n",
    "u = np.float32(np.random.random((M, N)))\n",
    "v = np.float32(np.random.random((N, P)))\n",
    "res = np.zeros((M, P), dtype=np.float32)"
   ]
  },
  {
   "cell_type": "code",
   "execution_count": null,
   "id": "85abd61a-c22d-443d-a771-8c312b72cf78",
   "metadata": {},
   "outputs": [],
   "source": [
    "%timeit matrix_multiply(u, v)"
   ]
  },
  {
   "cell_type": "code",
   "execution_count": null,
   "id": "06fc9cf6-a41b-4f67-930d-554e254d179b",
   "metadata": {},
   "outputs": [],
   "source": [
    "%timeit cy_matmul(u, v, res)"
   ]
  },
  {
   "cell_type": "code",
   "execution_count": null,
   "id": "7292bdd7-b329-4ac8-8324-13d4499be792",
   "metadata": {},
   "outputs": [],
   "source": [
    "%timeit np.matmul(u, v)"
   ]
  },
  {
   "cell_type": "code",
   "execution_count": null,
   "id": "57102969-007b-4545-88fe-0a9b088bfecd",
   "metadata": {},
   "outputs": [],
   "source": []
  }
 ],
 "metadata": {
  "kernelspec": {
   "display_name": "Python 3 (ipykernel)",
   "language": "python",
   "name": "python3"
  },
  "language_info": {
   "codemirror_mode": {
    "name": "ipython",
    "version": 3
   },
   "file_extension": ".py",
   "mimetype": "text/x-python",
   "name": "python",
   "nbconvert_exporter": "python",
   "pygments_lexer": "ipython3",
   "version": "3.11.5"
  }
 },
 "nbformat": 4,
 "nbformat_minor": 5
}
